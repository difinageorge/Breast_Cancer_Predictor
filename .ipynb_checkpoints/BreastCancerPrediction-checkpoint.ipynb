{
 "cells": [
  {
   "cell_type": "markdown",
   "id": "e7f58dd3-6c79-41c9-b1ed-ca056be378bf",
   "metadata": {},
   "source": [
    "## ✅ Step 1: Import Libraries"
   ]
  },
  {
   "cell_type": "code",
   "execution_count": 89,
   "id": "82feb894-bc2c-4e36-9638-c15bc5876baa",
   "metadata": {},
   "outputs": [],
   "source": [
    "import numpy as np\n",
    "import pandas as pd\n",
    "import matplotlib.pyplot as plt\n",
    "from sklearn.datasets import load_breast_cancer\n",
    "from sklearn.model_selection import train_test_split\n",
    "from sklearn.preprocessing import StandardScaler\n",
    "from sklearn.metrics import classification_report, confusion_matrix\n",
    "import seaborn as sns\n",
    "import tensorflow as tf\n",
    "from tensorflow import keras\n",
    "from tensorflow.keras.models import Sequential\n",
    "from tensorflow.keras.layers import Dense\n",
    "import warnings\n",
    "warnings.filterwarnings('ignore')"
   ]
  },
  {
   "cell_type": "markdown",
   "id": "2276df42-09a1-413e-b989-13d5468790df",
   "metadata": {},
   "source": [
    "## ✅ Step 2: Load and Prepare the Dataset"
   ]
  },
  {
   "cell_type": "markdown",
   "id": "6d510bbc-8ddb-4419-b1db-82cae78fc309",
   "metadata": {},
   "source": [
    "#### Load dataset"
   ]
  },
  {
   "cell_type": "code",
   "execution_count": 90,
   "id": "82891148-07a4-492e-af1e-2ef65beb1187",
   "metadata": {},
   "outputs": [
    {
     "name": "stdout",
     "output_type": "stream",
     "text": [
      "Index(['id', 'diagnosis', 'radius_mean', 'texture_mean', 'perimeter_mean',\n",
      "       'area_mean', 'smoothness_mean', 'compactness_mean', 'concavity_mean',\n",
      "       'concave points_mean', 'symmetry_mean', 'fractal_dimension_mean',\n",
      "       'radius_se', 'texture_se', 'perimeter_se', 'area_se', 'smoothness_se',\n",
      "       'compactness_se', 'concavity_se', 'concave points_se', 'symmetry_se',\n",
      "       'fractal_dimension_se', 'radius_worst', 'texture_worst',\n",
      "       'perimeter_worst', 'area_worst', 'smoothness_worst',\n",
      "       'compactness_worst', 'concavity_worst', 'concave points_worst',\n",
      "       'symmetry_worst', 'fractal_dimension_worst'],\n",
      "      dtype='object')\n"
     ]
    }
   ],
   "source": [
    "data = pd.read_excel('breastCancer_data.xlsx')\n",
    "# See column names\n",
    "print(data.columns)\n",
    "\n",
    "#X = data.data\n",
    "#y = data.target"
   ]
  },
  {
   "cell_type": "code",
   "execution_count": 91,
   "id": "ac251b0d-7b36-4061-a75d-35501d559c62",
   "metadata": {},
   "outputs": [],
   "source": [
    "# Drop 'id' column if present\n",
    "data = data.drop(columns=['id'])"
   ]
  },
  {
   "cell_type": "code",
   "execution_count": 92,
   "id": "f06fcc18-ac3c-41a7-8d67-bfe354638688",
   "metadata": {},
   "outputs": [],
   "source": [
    "# Convert diagnosis to binary: M = 1, B = 0\n",
    "data['diagnosis'] = data['diagnosis'].map({'M': 1, 'B': 0})"
   ]
  },
  {
   "cell_type": "code",
   "execution_count": 93,
   "id": "95e2a1bd-cf05-4180-8dfd-8579b8b75e05",
   "metadata": {},
   "outputs": [],
   "source": [
    "# Set up features and target\n",
    "X = data.drop('diagnosis', axis=1)\n",
    "y = data['diagnosis']"
   ]
  },
  {
   "cell_type": "markdown",
   "id": "96314d25-5a2c-41a2-8795-42b98a171867",
   "metadata": {},
   "source": [
    "## ✅ Step 3: Split into features (X) and target (y)\n",
    "### Replace 'target_column_name' with your actual column name"
   ]
  },
  {
   "cell_type": "code",
   "execution_count": 94,
   "id": "ffb68260-65a6-4d41-ba67-bfd916d2b8d5",
   "metadata": {},
   "outputs": [],
   "source": [
    "X = data.drop('diagnosis', axis=1)  # All columns except 'diagnosis'\n",
    "y = data['diagnosis']               # The target column is 'diagnosis'"
   ]
  },
  {
   "cell_type": "markdown",
   "id": "32b928a8-1dc0-4555-95bd-2adf29d71d0b",
   "metadata": {},
   "source": [
    "## ✅ Step 4: Standardize features"
   ]
  },
  {
   "cell_type": "code",
   "execution_count": 95,
   "id": "9c3fd17d-a752-4ccb-99c1-55b10a916b49",
   "metadata": {},
   "outputs": [],
   "source": [
    "scaler = StandardScaler()\n",
    "X_scaled = scaler.fit_transform(X)"
   ]
  },
  {
   "cell_type": "markdown",
   "id": "a8543d38-f78c-4b1b-8043-8e4ee90fad4e",
   "metadata": {},
   "source": [
    "## ✅ Step 5: Train-test split"
   ]
  },
  {
   "cell_type": "code",
   "execution_count": 96,
   "id": "d00996a6-55db-466e-a584-f890e3a65f07",
   "metadata": {},
   "outputs": [],
   "source": [
    "X_train, X_test, y_train, y_test = train_test_split(X_scaled, y, test_size=0.2, random_state=42)"
   ]
  },
  {
   "cell_type": "markdown",
   "id": "805fb88b-7d75-4471-a63d-5d00fd5607dc",
   "metadata": {},
   "source": [
    "## ✅ Step 6: Build the Neural Network model"
   ]
  },
  {
   "cell_type": "code",
   "execution_count": 97,
   "id": "615fc25a-42bb-41be-b9aa-f297d2efb580",
   "metadata": {},
   "outputs": [],
   "source": [
    "model = Sequential()\n",
    "model.add(Dense(32, activation='relu', input_shape=(X_train.shape[1],)))\n",
    "model.add(Dense(16, activation='relu'))\n",
    "model.add(Dense(1, activation='sigmoid'))  # Use sigmoid for binary classification"
   ]
  },
  {
   "cell_type": "markdown",
   "id": "ec176fa3-e2fa-45ee-b70c-ec1a90b4ded3",
   "metadata": {},
   "source": [
    "## ✅ Step 7: Compile"
   ]
  },
  {
   "cell_type": "code",
   "execution_count": 98,
   "id": "a73aecf6-7fee-4a02-a3c3-7cac07d04195",
   "metadata": {},
   "outputs": [],
   "source": [
    "model.compile(optimizer='adam', loss='binary_crossentropy', metrics=['accuracy'])"
   ]
  },
  {
   "cell_type": "markdown",
   "id": "02dc5b85-9b62-4111-9352-eb2d236cedb1",
   "metadata": {},
   "source": [
    "## ✅ Step 8: Train"
   ]
  },
  {
   "cell_type": "code",
   "execution_count": 99,
   "id": "2fdde935-105f-461e-b36f-f1d75b395534",
   "metadata": {},
   "outputs": [
    {
     "name": "stdout",
     "output_type": "stream",
     "text": [
      "Epoch 1/50\n",
      "\u001b[1m26/26\u001b[0m \u001b[32m━━━━━━━━━━━━━━━━━━━━\u001b[0m\u001b[37m\u001b[0m \u001b[1m1s\u001b[0m 4ms/step - accuracy: 0.7604 - loss: 0.5543 - val_accuracy: 0.8913 - val_loss: 0.3860\n",
      "Epoch 2/50\n",
      "\u001b[1m26/26\u001b[0m \u001b[32m━━━━━━━━━━━━━━━━━━━━\u001b[0m\u001b[37m\u001b[0m \u001b[1m0s\u001b[0m 2ms/step - accuracy: 0.9315 - loss: 0.2874 - val_accuracy: 0.9348 - val_loss: 0.2156\n",
      "Epoch 3/50\n",
      "\u001b[1m26/26\u001b[0m \u001b[32m━━━━━━━━━━━━━━━━━━━━\u001b[0m\u001b[37m\u001b[0m \u001b[1m0s\u001b[0m 2ms/step - accuracy: 0.9560 - loss: 0.1773 - val_accuracy: 0.9348 - val_loss: 0.1564\n",
      "Epoch 4/50\n",
      "\u001b[1m26/26\u001b[0m \u001b[32m━━━━━━━━━━━━━━━━━━━━\u001b[0m\u001b[37m\u001b[0m \u001b[1m0s\u001b[0m 2ms/step - accuracy: 0.9658 - loss: 0.1308 - val_accuracy: 0.9348 - val_loss: 0.1292\n",
      "Epoch 5/50\n",
      "\u001b[1m26/26\u001b[0m \u001b[32m━━━━━━━━━━━━━━━━━━━━\u001b[0m\u001b[37m\u001b[0m \u001b[1m0s\u001b[0m 2ms/step - accuracy: 0.9780 - loss: 0.1068 - val_accuracy: 0.9783 - val_loss: 0.1151\n",
      "Epoch 6/50\n",
      "\u001b[1m26/26\u001b[0m \u001b[32m━━━━━━━━━━━━━━━━━━━━\u001b[0m\u001b[37m\u001b[0m \u001b[1m0s\u001b[0m 1ms/step - accuracy: 0.9804 - loss: 0.0912 - val_accuracy: 0.9783 - val_loss: 0.1072\n",
      "Epoch 7/50\n",
      "\u001b[1m26/26\u001b[0m \u001b[32m━━━━━━━━━━━━━━━━━━━━\u001b[0m\u001b[37m\u001b[0m \u001b[1m0s\u001b[0m 1ms/step - accuracy: 0.9804 - loss: 0.0812 - val_accuracy: 0.9783 - val_loss: 0.1009\n",
      "Epoch 8/50\n",
      "\u001b[1m26/26\u001b[0m \u001b[32m━━━━━━━━━━━━━━━━━━━━\u001b[0m\u001b[37m\u001b[0m \u001b[1m0s\u001b[0m 1ms/step - accuracy: 0.9804 - loss: 0.0733 - val_accuracy: 0.9783 - val_loss: 0.0972\n",
      "Epoch 9/50\n",
      "\u001b[1m26/26\u001b[0m \u001b[32m━━━━━━━━━━━━━━━━━━━━\u001b[0m\u001b[37m\u001b[0m \u001b[1m0s\u001b[0m 1ms/step - accuracy: 0.9853 - loss: 0.0672 - val_accuracy: 0.9783 - val_loss: 0.0964\n",
      "Epoch 10/50\n",
      "\u001b[1m26/26\u001b[0m \u001b[32m━━━━━━━━━━━━━━━━━━━━\u001b[0m\u001b[37m\u001b[0m \u001b[1m0s\u001b[0m 1ms/step - accuracy: 0.9853 - loss: 0.0625 - val_accuracy: 0.9783 - val_loss: 0.0932\n",
      "Epoch 11/50\n",
      "\u001b[1m26/26\u001b[0m \u001b[32m━━━━━━━━━━━━━━━━━━━━\u001b[0m\u001b[37m\u001b[0m \u001b[1m0s\u001b[0m 1ms/step - accuracy: 0.9853 - loss: 0.0581 - val_accuracy: 0.9783 - val_loss: 0.0910\n",
      "Epoch 12/50\n",
      "\u001b[1m26/26\u001b[0m \u001b[32m━━━━━━━━━━━━━━━━━━━━\u001b[0m\u001b[37m\u001b[0m \u001b[1m0s\u001b[0m 1ms/step - accuracy: 0.9853 - loss: 0.0550 - val_accuracy: 0.9783 - val_loss: 0.0890\n",
      "Epoch 13/50\n",
      "\u001b[1m26/26\u001b[0m \u001b[32m━━━━━━━━━━━━━━━━━━━━\u001b[0m\u001b[37m\u001b[0m \u001b[1m0s\u001b[0m 1ms/step - accuracy: 0.9853 - loss: 0.0526 - val_accuracy: 0.9783 - val_loss: 0.0860\n",
      "Epoch 14/50\n",
      "\u001b[1m26/26\u001b[0m \u001b[32m━━━━━━━━━━━━━━━━━━━━\u001b[0m\u001b[37m\u001b[0m \u001b[1m0s\u001b[0m 1ms/step - accuracy: 0.9853 - loss: 0.0491 - val_accuracy: 0.9783 - val_loss: 0.0866\n",
      "Epoch 15/50\n",
      "\u001b[1m26/26\u001b[0m \u001b[32m━━━━━━━━━━━━━━━━━━━━\u001b[0m\u001b[37m\u001b[0m \u001b[1m0s\u001b[0m 1ms/step - accuracy: 0.9853 - loss: 0.0467 - val_accuracy: 0.9783 - val_loss: 0.0859\n",
      "Epoch 16/50\n",
      "\u001b[1m26/26\u001b[0m \u001b[32m━━━━━━━━━━━━━━━━━━━━\u001b[0m\u001b[37m\u001b[0m \u001b[1m0s\u001b[0m 1ms/step - accuracy: 0.9853 - loss: 0.0442 - val_accuracy: 0.9783 - val_loss: 0.0855\n",
      "Epoch 17/50\n",
      "\u001b[1m26/26\u001b[0m \u001b[32m━━━━━━━━━━━━━━━━━━━━\u001b[0m\u001b[37m\u001b[0m \u001b[1m0s\u001b[0m 1ms/step - accuracy: 0.9853 - loss: 0.0416 - val_accuracy: 0.9783 - val_loss: 0.0862\n",
      "Epoch 18/50\n",
      "\u001b[1m26/26\u001b[0m \u001b[32m━━━━━━━━━━━━━━━━━━━━\u001b[0m\u001b[37m\u001b[0m \u001b[1m0s\u001b[0m 1ms/step - accuracy: 0.9853 - loss: 0.0394 - val_accuracy: 0.9783 - val_loss: 0.0841\n",
      "Epoch 19/50\n",
      "\u001b[1m26/26\u001b[0m \u001b[32m━━━━━━━━━━━━━━━━━━━━\u001b[0m\u001b[37m\u001b[0m \u001b[1m0s\u001b[0m 1ms/step - accuracy: 0.9878 - loss: 0.0372 - val_accuracy: 0.9783 - val_loss: 0.0805\n",
      "Epoch 20/50\n",
      "\u001b[1m26/26\u001b[0m \u001b[32m━━━━━━━━━━━━━━━━━━━━\u001b[0m\u001b[37m\u001b[0m \u001b[1m0s\u001b[0m 1ms/step - accuracy: 0.9878 - loss: 0.0351 - val_accuracy: 0.9783 - val_loss: 0.0808\n",
      "Epoch 21/50\n",
      "\u001b[1m26/26\u001b[0m \u001b[32m━━━━━━━━━━━━━━━━━━━━\u001b[0m\u001b[37m\u001b[0m \u001b[1m0s\u001b[0m 1ms/step - accuracy: 0.9853 - loss: 0.0338 - val_accuracy: 0.9783 - val_loss: 0.0796\n",
      "Epoch 22/50\n",
      "\u001b[1m26/26\u001b[0m \u001b[32m━━━━━━━━━━━━━━━━━━━━\u001b[0m\u001b[37m\u001b[0m \u001b[1m0s\u001b[0m 1ms/step - accuracy: 0.9902 - loss: 0.0316 - val_accuracy: 0.9783 - val_loss: 0.0777\n",
      "Epoch 23/50\n",
      "\u001b[1m26/26\u001b[0m \u001b[32m━━━━━━━━━━━━━━━━━━━━\u001b[0m\u001b[37m\u001b[0m \u001b[1m0s\u001b[0m 1ms/step - accuracy: 0.9902 - loss: 0.0295 - val_accuracy: 0.9783 - val_loss: 0.0766\n",
      "Epoch 24/50\n",
      "\u001b[1m26/26\u001b[0m \u001b[32m━━━━━━━━━━━━━━━━━━━━\u001b[0m\u001b[37m\u001b[0m \u001b[1m0s\u001b[0m 1ms/step - accuracy: 0.9902 - loss: 0.0278 - val_accuracy: 0.9783 - val_loss: 0.0767\n",
      "Epoch 25/50\n",
      "\u001b[1m26/26\u001b[0m \u001b[32m━━━━━━━━━━━━━━━━━━━━\u001b[0m\u001b[37m\u001b[0m \u001b[1m0s\u001b[0m 1ms/step - accuracy: 0.9902 - loss: 0.0260 - val_accuracy: 0.9783 - val_loss: 0.0755\n",
      "Epoch 26/50\n",
      "\u001b[1m26/26\u001b[0m \u001b[32m━━━━━━━━━━━━━━━━━━━━\u001b[0m\u001b[37m\u001b[0m \u001b[1m0s\u001b[0m 1ms/step - accuracy: 0.9902 - loss: 0.0259 - val_accuracy: 0.9783 - val_loss: 0.0734\n",
      "Epoch 27/50\n",
      "\u001b[1m26/26\u001b[0m \u001b[32m━━━━━━━━━━━━━━━━━━━━\u001b[0m\u001b[37m\u001b[0m \u001b[1m0s\u001b[0m 1ms/step - accuracy: 0.9902 - loss: 0.0231 - val_accuracy: 0.9783 - val_loss: 0.0758\n",
      "Epoch 28/50\n",
      "\u001b[1m26/26\u001b[0m \u001b[32m━━━━━━━━━━━━━━━━━━━━\u001b[0m\u001b[37m\u001b[0m \u001b[1m0s\u001b[0m 1ms/step - accuracy: 0.9927 - loss: 0.0215 - val_accuracy: 0.9783 - val_loss: 0.0726\n",
      "Epoch 29/50\n",
      "\u001b[1m26/26\u001b[0m \u001b[32m━━━━━━━━━━━━━━━━━━━━\u001b[0m\u001b[37m\u001b[0m \u001b[1m0s\u001b[0m 1ms/step - accuracy: 0.9902 - loss: 0.0206 - val_accuracy: 0.9783 - val_loss: 0.0701\n",
      "Epoch 30/50\n",
      "\u001b[1m26/26\u001b[0m \u001b[32m━━━━━━━━━━━━━━━━━━━━\u001b[0m\u001b[37m\u001b[0m \u001b[1m0s\u001b[0m 1ms/step - accuracy: 0.9927 - loss: 0.0193 - val_accuracy: 0.9783 - val_loss: 0.0696\n",
      "Epoch 31/50\n",
      "\u001b[1m26/26\u001b[0m \u001b[32m━━━━━━━━━━━━━━━━━━━━\u001b[0m\u001b[37m\u001b[0m \u001b[1m0s\u001b[0m 1ms/step - accuracy: 0.9976 - loss: 0.0177 - val_accuracy: 0.9783 - val_loss: 0.0686\n",
      "Epoch 32/50\n",
      "\u001b[1m26/26\u001b[0m \u001b[32m━━━━━━━━━━━━━━━━━━━━\u001b[0m\u001b[37m\u001b[0m \u001b[1m0s\u001b[0m 1ms/step - accuracy: 0.9951 - loss: 0.0168 - val_accuracy: 0.9783 - val_loss: 0.0675\n",
      "Epoch 33/50\n",
      "\u001b[1m26/26\u001b[0m \u001b[32m━━━━━━━━━━━━━━━━━━━━\u001b[0m\u001b[37m\u001b[0m \u001b[1m0s\u001b[0m 2ms/step - accuracy: 0.9976 - loss: 0.0160 - val_accuracy: 0.9783 - val_loss: 0.0657\n",
      "Epoch 34/50\n",
      "\u001b[1m26/26\u001b[0m \u001b[32m━━━━━━━━━━━━━━━━━━━━\u001b[0m\u001b[37m\u001b[0m \u001b[1m0s\u001b[0m 1ms/step - accuracy: 0.9951 - loss: 0.0150 - val_accuracy: 0.9783 - val_loss: 0.0650\n",
      "Epoch 35/50\n",
      "\u001b[1m26/26\u001b[0m \u001b[32m━━━━━━━━━━━━━━━━━━━━\u001b[0m\u001b[37m\u001b[0m \u001b[1m0s\u001b[0m 1ms/step - accuracy: 0.9976 - loss: 0.0146 - val_accuracy: 0.9783 - val_loss: 0.0643\n",
      "Epoch 36/50\n",
      "\u001b[1m26/26\u001b[0m \u001b[32m━━━━━━━━━━━━━━━━━━━━\u001b[0m\u001b[37m\u001b[0m \u001b[1m0s\u001b[0m 1ms/step - accuracy: 0.9976 - loss: 0.0131 - val_accuracy: 0.9783 - val_loss: 0.0613\n",
      "Epoch 37/50\n",
      "\u001b[1m26/26\u001b[0m \u001b[32m━━━━━━━━━━━━━━━━━━━━\u001b[0m\u001b[37m\u001b[0m \u001b[1m0s\u001b[0m 1ms/step - accuracy: 1.0000 - loss: 0.0128 - val_accuracy: 0.9783 - val_loss: 0.0615\n",
      "Epoch 38/50\n",
      "\u001b[1m26/26\u001b[0m \u001b[32m━━━━━━━━━━━━━━━━━━━━\u001b[0m\u001b[37m\u001b[0m \u001b[1m0s\u001b[0m 1ms/step - accuracy: 0.9976 - loss: 0.0111 - val_accuracy: 0.9783 - val_loss: 0.0595\n",
      "Epoch 39/50\n",
      "\u001b[1m26/26\u001b[0m \u001b[32m━━━━━━━━━━━━━━━━━━━━\u001b[0m\u001b[37m\u001b[0m \u001b[1m0s\u001b[0m 2ms/step - accuracy: 0.9976 - loss: 0.0103 - val_accuracy: 0.9783 - val_loss: 0.0588\n",
      "Epoch 40/50\n",
      "\u001b[1m26/26\u001b[0m \u001b[32m━━━━━━━━━━━━━━━━━━━━\u001b[0m\u001b[37m\u001b[0m \u001b[1m0s\u001b[0m 2ms/step - accuracy: 0.9976 - loss: 0.0098 - val_accuracy: 0.9783 - val_loss: 0.0577\n",
      "Epoch 41/50\n",
      "\u001b[1m26/26\u001b[0m \u001b[32m━━━━━━━━━━━━━━━━━━━━\u001b[0m\u001b[37m\u001b[0m \u001b[1m0s\u001b[0m 1ms/step - accuracy: 1.0000 - loss: 0.0091 - val_accuracy: 0.9783 - val_loss: 0.0560\n",
      "Epoch 42/50\n",
      "\u001b[1m26/26\u001b[0m \u001b[32m━━━━━━━━━━━━━━━━━━━━\u001b[0m\u001b[37m\u001b[0m \u001b[1m0s\u001b[0m 1ms/step - accuracy: 1.0000 - loss: 0.0085 - val_accuracy: 0.9783 - val_loss: 0.0558\n",
      "Epoch 43/50\n",
      "\u001b[1m26/26\u001b[0m \u001b[32m━━━━━━━━━━━━━━━━━━━━\u001b[0m\u001b[37m\u001b[0m \u001b[1m0s\u001b[0m 1ms/step - accuracy: 1.0000 - loss: 0.0080 - val_accuracy: 0.9783 - val_loss: 0.0543\n",
      "Epoch 44/50\n",
      "\u001b[1m26/26\u001b[0m \u001b[32m━━━━━━━━━━━━━━━━━━━━\u001b[0m\u001b[37m\u001b[0m \u001b[1m0s\u001b[0m 1ms/step - accuracy: 1.0000 - loss: 0.0077 - val_accuracy: 0.9783 - val_loss: 0.0541\n",
      "Epoch 45/50\n",
      "\u001b[1m26/26\u001b[0m \u001b[32m━━━━━━━━━━━━━━━━━━━━\u001b[0m\u001b[37m\u001b[0m \u001b[1m0s\u001b[0m 1ms/step - accuracy: 1.0000 - loss: 0.0071 - val_accuracy: 0.9783 - val_loss: 0.0543\n",
      "Epoch 46/50\n",
      "\u001b[1m26/26\u001b[0m \u001b[32m━━━━━━━━━━━━━━━━━━━━\u001b[0m\u001b[37m\u001b[0m \u001b[1m0s\u001b[0m 1ms/step - accuracy: 1.0000 - loss: 0.0066 - val_accuracy: 0.9783 - val_loss: 0.0519\n",
      "Epoch 47/50\n",
      "\u001b[1m26/26\u001b[0m \u001b[32m━━━━━━━━━━━━━━━━━━━━\u001b[0m\u001b[37m\u001b[0m \u001b[1m0s\u001b[0m 1ms/step - accuracy: 1.0000 - loss: 0.0059 - val_accuracy: 0.9783 - val_loss: 0.0507\n",
      "Epoch 48/50\n",
      "\u001b[1m26/26\u001b[0m \u001b[32m━━━━━━━━━━━━━━━━━━━━\u001b[0m\u001b[37m\u001b[0m \u001b[1m0s\u001b[0m 1ms/step - accuracy: 1.0000 - loss: 0.0063 - val_accuracy: 0.9783 - val_loss: 0.0498\n",
      "Epoch 49/50\n",
      "\u001b[1m26/26\u001b[0m \u001b[32m━━━━━━━━━━━━━━━━━━━━\u001b[0m\u001b[37m\u001b[0m \u001b[1m0s\u001b[0m 1ms/step - accuracy: 1.0000 - loss: 0.0057 - val_accuracy: 0.9783 - val_loss: 0.0482\n",
      "Epoch 50/50\n",
      "\u001b[1m26/26\u001b[0m \u001b[32m━━━━━━━━━━━━━━━━━━━━\u001b[0m\u001b[37m\u001b[0m \u001b[1m0s\u001b[0m 1ms/step - accuracy: 1.0000 - loss: 0.0051 - val_accuracy: 0.9783 - val_loss: 0.0482\n"
     ]
    }
   ],
   "source": [
    "history = model.fit(X_train_scaled, y_train, validation_split=0.1, epochs=50, batch_size=16, verbose=1)"
   ]
  },
  {
   "cell_type": "markdown",
   "id": "f95e2804-860f-4621-af4b-9da6530a9845",
   "metadata": {},
   "source": [
    "## ✅ Step 9: Evaluate"
   ]
  },
  {
   "cell_type": "code",
   "execution_count": 100,
   "id": "601469aa-e10e-407d-9aad-7a8ef21836a9",
   "metadata": {},
   "outputs": [
    {
     "name": "stdout",
     "output_type": "stream",
     "text": [
      "\u001b[1m4/4\u001b[0m \u001b[32m━━━━━━━━━━━━━━━━━━━━\u001b[0m\u001b[37m\u001b[0m \u001b[1m0s\u001b[0m 3ms/step - accuracy: 0.9649 - loss: 0.1183\n",
      "\n",
      "🎯 Test Accuracy: 0.9649\n",
      "\n"
     ]
    }
   ],
   "source": [
    "test_loss, test_accuracy = model.evaluate(X_test_scaled, y_test)\n",
    "print(f\"\\n🎯 Test Accuracy: {test_accuracy:.4f}\\n\")"
   ]
  },
  {
   "cell_type": "markdown",
   "id": "a1a4ae35-43e2-4e5e-9738-a4359d426e76",
   "metadata": {},
   "source": [
    "## ✅ Step 10: Predict"
   ]
  },
  {
   "cell_type": "code",
   "execution_count": 101,
   "id": "fae18d37-eae1-4574-b633-05eb86fd7b2e",
   "metadata": {},
   "outputs": [
    {
     "name": "stdout",
     "output_type": "stream",
     "text": [
      "\u001b[1m4/4\u001b[0m \u001b[32m━━━━━━━━━━━━━━━━━━━━\u001b[0m\u001b[37m\u001b[0m \u001b[1m0s\u001b[0m 7ms/step \n"
     ]
    }
   ],
   "source": [
    "y_pred_probs = model.predict(X_test_scaled).flatten()\n",
    "y_pred = (y_pred_probs > 0.5).astype(int)"
   ]
  },
  {
   "cell_type": "markdown",
   "id": "8cfd0b86-dd66-4ba1-818f-476a7f3696ef",
   "metadata": {},
   "source": [
    "## 📄 Classification Report"
   ]
  },
  {
   "cell_type": "code",
   "execution_count": 102,
   "id": "7ee0c620-27e8-4fea-ace0-1983794f4915",
   "metadata": {},
   "outputs": [
    {
     "name": "stdout",
     "output_type": "stream",
     "text": [
      "📋 Classification Report:\n",
      "\n",
      "              precision    recall  f1-score   support\n",
      "\n",
      "   Malignant       0.97      0.97      0.97        71\n",
      "      Benign       0.95      0.95      0.95        43\n",
      "\n",
      "    accuracy                           0.96       114\n",
      "   macro avg       0.96      0.96      0.96       114\n",
      "weighted avg       0.96      0.96      0.96       114\n",
      "\n"
     ]
    }
   ],
   "source": [
    "# Define readable target names\n",
    "target_names = ['Malignant', 'Benign']\n",
    "\n",
    "print(\"📋 Classification Report:\\n\")\n",
    "print(classification_report(y_test, y_pred, target_names=target_names))"
   ]
  },
  {
   "cell_type": "markdown",
   "id": "b23af7e4-2856-4693-866c-075babfbf643",
   "metadata": {},
   "source": [
    "## Confusion Matrix"
   ]
  },
  {
   "cell_type": "code",
   "execution_count": 103,
   "id": "b09bb34b-bc9b-4ff8-ae49-b3b10f93462c",
   "metadata": {},
   "outputs": [
    {
     "data": {
      "image/png": "[encoded data removed]",
      "text/plain": [
       "<Figure size 600x400 with 2 Axes>"
      ]
     },
     "metadata": {},
     "output_type": "display_data"
    }
   ],
   "source": [
    "conf_matrix = confusion_matrix(y_test, y_pred)\n",
    "plt.figure(figsize=(6, 4))\n",
    "sns.heatmap(conf_matrix, annot=True, fmt='d', cmap='Blues', xticklabels=target_names, yticklabels=target_names)\n",
    "plt.title('🧩 Confusion Matrix')\n",
    "plt.xlabel('Predicted')\n",
    "plt.ylabel('Actual')\n",
    "plt.show()"
   ]
  },
  {
   "cell_type": "markdown",
   "id": "8b07d15c-736b-4183-933e-9a9536e4deb7",
   "metadata": {},
   "source": [
    "## Accuracy and Loss Plot"
   ]
  },
  {
   "cell_type": "code",
   "execution_count": 104,
   "id": "7671e890-0fec-4ebc-ad99-72afc2e4b1c4",
   "metadata": {},
   "outputs": [
    {
     "data": {
      "image/png": "[encoded data removed]",
      "text/plain": [
       "<Figure size 800x400 with 1 Axes>"
      ]
     },
     "metadata": {},
     "output_type": "display_data"
    }
   ],
   "source": [
    "plt.figure(figsize=(8, 4))\n",
    "plt.plot(history.history['accuracy'], label='Train Accuracy')\n",
    "plt.plot(history.history['val_accuracy'], label='Val Accuracy')\n",
    "plt.title('Training vs Validation Accuracy')\n",
    "plt.xlabel('Epoch')\n",
    "plt.ylabel('Accuracy')\n",
    "plt.legend()\n",
    "plt.grid(True)\n",
    "plt.show()"
   ]
  },
  {
   "cell_type": "markdown",
   "id": "a287d571-7874-4ce5-a37e-ada63ec82ea2",
   "metadata": {},
   "source": [
    "## Predict on 5 test samples"
   ]
  },
  {
   "cell_type": "code",
   "execution_count": 105,
   "id": "d92483c4-36be-4b30-a3ce-d8b96c85443b",
   "metadata": {},
   "outputs": [
    {
     "name": "stdout",
     "output_type": "stream",
     "text": [
      "\u001b[1m1/1\u001b[0m \u001b[32m━━━━━━━━━━━━━━━━━━━━\u001b[0m\u001b[37m\u001b[0m \u001b[1m0s\u001b[0m 17ms/step\n"
     ]
    }
   ],
   "source": [
    "sample_indices = np.random.choice(len(X_test), 5, replace=False)\n",
    "sample_inputs = X_test[sample_indices]\n",
    "sample_scaled = scaler.transform(sample_inputs)\n",
    "sample_preds = (model.predict(sample_scaled) > 0.5).astype(int)"
   ]
  },
  {
   "cell_type": "code",
   "execution_count": 106,
   "id": "f23e3687-c33a-49d1-947d-5eff83957dfc",
   "metadata": {},
   "outputs": [
    {
     "name": "stdout",
     "output_type": "stream",
     "text": [
      "\n",
      "🔍 Sample Predictions:\n",
      "\n",
      "\u001b[1m1/1\u001b[0m \u001b[32m━━━━━━━━━━━━━━━━━━━━\u001b[0m\u001b[37m\u001b[0m \u001b[1m0s\u001b[0m 15ms/step\n",
      "Sample 1: Predicted = Benign, Actual = Benign\n",
      "Sample 2: Predicted = Benign, Actual = Benign\n",
      "Sample 3: Predicted = Malignant, Actual = Malignant\n",
      "Sample 4: Predicted = Benign, Actual = Benign\n",
      "Sample 5: Predicted = Malignant, Actual = Malignant\n"
     ]
    }
   ],
   "source": [
    "# 🔍 Predict on 5 random test samples\n",
    "print(\"\\n🔍 Sample Predictions:\\n\")\n",
    "sample_indices = np.random.choice(len(X_test), 5, replace=False)\n",
    "sample_inputs = X_test[sample_indices]\n",
    "sample_scaled = scaler.transform(sample_inputs)\n",
    "sample_preds = (model.predict(sample_scaled) > 0.5).astype(int)\n",
    "\n",
    "# Now print actual vs predicted for each sample\n",
    "for i, idx in enumerate(sample_indices):\n",
    "    actual = \"Benign\" if y_test.iloc[idx] == 1 else \"Malignant\"\n",
    "    predicted = \"Benign\" if sample_preds[i][0] == 1 else \"Malignant\"\n",
    "    print(f\"Sample {i+1}: Predicted = {predicted}, Actual = {actual}\")\n"
   ]
  },
  {
   "cell_type": "code",
   "execution_count": null,
   "id": "65636331-0dfb-4f9b-aee1-80d30ca95c5b",
   "metadata": {},
   "outputs": [],
   "source": []
  }
 ],
 "metadata": {
  "kernelspec": {
   "display_name": "Python [conda env:base] *",
   "language": "python",
   "name": "conda-base-py"
  },
  "language_info": {
   "codemirror_mode": {
    "name": "ipython",
    "version": 3
   },
   "file_extension": ".py",
   "mimetype": "text/x-python",
   "name": "python",
   "nbconvert_exporter": "python",
   "pygments_lexer": "ipython3",
   "version": "3.12.7"
  }
 },
 "nbformat": 4,
 "nbformat_minor": 5
}
